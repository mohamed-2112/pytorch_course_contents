{
 "cells": [
  {
   "cell_type": "markdown",
   "id": "4d2523d1",
   "metadata": {
    "papermill": {
     "duration": 0.005006,
     "end_time": "2023-12-16T03:47:10.707159",
     "exception": false,
     "start_time": "2023-12-16T03:47:10.702153",
     "status": "completed"
    },
    "tags": []
   },
   "source": [
    "# CNN using pytorch course"
   ]
  },
  {
   "cell_type": "markdown",
   "id": "fe2c3321",
   "metadata": {
    "papermill": {
     "duration": 0.004311,
     "end_time": "2023-12-16T03:47:10.716226",
     "exception": false,
     "start_time": "2023-12-16T03:47:10.711915",
     "status": "completed"
    },
    "tags": []
   },
   "source": [
    "## Preparing data"
   ]
  },
  {
   "cell_type": "code",
   "execution_count": 1,
   "id": "92701b2b",
   "metadata": {
    "_cell_guid": "b1076dfc-b9ad-4769-8c92-a6c4dae69d19",
    "_uuid": "8f2839f25d086af736a60e9eeb907d3b93b6e0e5",
    "execution": {
     "iopub.execute_input": "2023-12-16T03:47:10.726611Z",
     "iopub.status.busy": "2023-12-16T03:47:10.726301Z",
     "iopub.status.idle": "2023-12-16T03:47:14.251103Z",
     "shell.execute_reply": "2023-12-16T03:47:14.250266Z"
    },
    "papermill": {
     "duration": 3.532625,
     "end_time": "2023-12-16T03:47:14.253348",
     "exception": false,
     "start_time": "2023-12-16T03:47:10.720723",
     "status": "completed"
    },
    "tags": []
   },
   "outputs": [],
   "source": [
    "import torch\n",
    "import torch.nn as nn\n",
    "import torchvision.transforms as transforms\n",
    "import torchvision.datasets as datasets"
   ]
  },
  {
   "cell_type": "code",
   "execution_count": 2,
   "id": "d7877c40",
   "metadata": {
    "execution": {
     "iopub.execute_input": "2023-12-16T03:47:14.263905Z",
     "iopub.status.busy": "2023-12-16T03:47:14.263535Z",
     "iopub.status.idle": "2023-12-16T03:47:15.404613Z",
     "shell.execute_reply": "2023-12-16T03:47:15.403764Z"
    },
    "papermill": {
     "duration": 1.148655,
     "end_time": "2023-12-16T03:47:15.406816",
     "exception": false,
     "start_time": "2023-12-16T03:47:14.258161",
     "status": "completed"
    },
    "tags": []
   },
   "outputs": [
    {
     "name": "stdout",
     "output_type": "stream",
     "text": [
      "Downloading http://yann.lecun.com/exdb/mnist/train-images-idx3-ubyte.gz\n",
      "Downloading http://yann.lecun.com/exdb/mnist/train-images-idx3-ubyte.gz to ./data/MNIST/raw/train-images-idx3-ubyte.gz\n"
     ]
    },
    {
     "name": "stderr",
     "output_type": "stream",
     "text": [
      "100%|██████████| 9912422/9912422 [00:00<00:00, 108643259.65it/s]\n"
     ]
    },
    {
     "name": "stdout",
     "output_type": "stream",
     "text": [
      "Extracting ./data/MNIST/raw/train-images-idx3-ubyte.gz to ./data/MNIST/raw\n",
      "\n",
      "Downloading http://yann.lecun.com/exdb/mnist/train-labels-idx1-ubyte.gz\n",
      "Downloading http://yann.lecun.com/exdb/mnist/train-labels-idx1-ubyte.gz to ./data/MNIST/raw/train-labels-idx1-ubyte.gz\n"
     ]
    },
    {
     "name": "stderr",
     "output_type": "stream",
     "text": [
      "100%|██████████| 28881/28881 [00:00<00:00, 42090234.13it/s]"
     ]
    },
    {
     "name": "stdout",
     "output_type": "stream",
     "text": [
      "Extracting ./data/MNIST/raw/train-labels-idx1-ubyte.gz to ./data/MNIST/raw\n",
      "\n",
      "Downloading http://yann.lecun.com/exdb/mnist/t10k-images-idx3-ubyte.gz\n"
     ]
    },
    {
     "name": "stderr",
     "output_type": "stream",
     "text": [
      "\n"
     ]
    },
    {
     "name": "stdout",
     "output_type": "stream",
     "text": [
      "Downloading http://yann.lecun.com/exdb/mnist/t10k-images-idx3-ubyte.gz to ./data/MNIST/raw/t10k-images-idx3-ubyte.gz\n"
     ]
    },
    {
     "name": "stderr",
     "output_type": "stream",
     "text": [
      "100%|██████████| 1648877/1648877 [00:00<00:00, 25083933.83it/s]\n"
     ]
    },
    {
     "name": "stdout",
     "output_type": "stream",
     "text": [
      "Extracting ./data/MNIST/raw/t10k-images-idx3-ubyte.gz to ./data/MNIST/raw\n",
      "\n",
      "Downloading http://yann.lecun.com/exdb/mnist/t10k-labels-idx1-ubyte.gz\n",
      "Downloading http://yann.lecun.com/exdb/mnist/t10k-labels-idx1-ubyte.gz to ./data/MNIST/raw/t10k-labels-idx1-ubyte.gz\n"
     ]
    },
    {
     "name": "stderr",
     "output_type": "stream",
     "text": [
      "100%|██████████| 4542/4542 [00:00<00:00, 10182003.62it/s]\n"
     ]
    },
    {
     "name": "stdout",
     "output_type": "stream",
     "text": [
      "Extracting ./data/MNIST/raw/t10k-labels-idx1-ubyte.gz to ./data/MNIST/raw\n",
      "\n"
     ]
    }
   ],
   "source": [
    "mean_gray = 0.1307\n",
    "stddev_gray = 0.3081\n",
    "\n",
    "transforms = transforms.Compose([transforms.ToTensor(),\n",
    "                                transforms.Normalize((mean_gray),(stddev_gray))])\n",
    "\n",
    "train_dataset =  datasets.MNIST(root='./data', train=True, transform=transforms, download=True)\n",
    "\n",
    "test_dataset = datasets.MNIST(root='./data',\n",
    "                             train=False,\n",
    "                             transform=transforms)"
   ]
  },
  {
   "cell_type": "code",
   "execution_count": 3,
   "id": "fbb262df",
   "metadata": {
    "execution": {
     "iopub.execute_input": "2023-12-16T03:47:15.421026Z",
     "iopub.status.busy": "2023-12-16T03:47:15.420427Z",
     "iopub.status.idle": "2023-12-16T03:47:15.741792Z",
     "shell.execute_reply": "2023-12-16T03:47:15.740895Z"
    },
    "papermill": {
     "duration": 0.330461,
     "end_time": "2023-12-16T03:47:15.743824",
     "exception": false,
     "start_time": "2023-12-16T03:47:15.413363",
     "status": "completed"
    },
    "tags": []
   },
   "outputs": [
    {
     "data": {
      "text/plain": [
       "<matplotlib.image.AxesImage at 0x7d2310c78760>"
      ]
     },
     "execution_count": 3,
     "metadata": {},
     "output_type": "execute_result"
    },
    {
     "data": {
      "image/png": "[encoded data removed]",
      "text/plain": [
       "<Figure size 640x480 with 1 Axes>"
      ]
     },
     "metadata": {},
     "output_type": "display_data"
    }
   ],
   "source": [
    "import matplotlib.pyplot as plt\n",
    "random_img = train_dataset[20][0].numpy() * stddev_gray + mean_gray\n",
    "plt.imshow(random_img.reshape(28, 28), cmap='gray')"
   ]
  },
  {
   "cell_type": "code",
   "execution_count": 4,
   "id": "de32c4f0",
   "metadata": {
    "execution": {
     "iopub.execute_input": "2023-12-16T03:47:15.760179Z",
     "iopub.status.busy": "2023-12-16T03:47:15.759827Z",
     "iopub.status.idle": "2023-12-16T03:47:15.767181Z",
     "shell.execute_reply": "2023-12-16T03:47:15.766246Z"
    },
    "papermill": {
     "duration": 0.018415,
     "end_time": "2023-12-16T03:47:15.769254",
     "exception": false,
     "start_time": "2023-12-16T03:47:15.750839",
     "status": "completed"
    },
    "tags": []
   },
   "outputs": [
    {
     "data": {
      "text/plain": [
       "4"
      ]
     },
     "execution_count": 4,
     "metadata": {},
     "output_type": "execute_result"
    }
   ],
   "source": [
    "train_dataset[20][1]"
   ]
  },
  {
   "cell_type": "code",
   "execution_count": 5,
   "id": "a2034331",
   "metadata": {
    "execution": {
     "iopub.execute_input": "2023-12-16T03:47:15.785761Z",
     "iopub.status.busy": "2023-12-16T03:47:15.785443Z",
     "iopub.status.idle": "2023-12-16T03:47:15.791101Z",
     "shell.execute_reply": "2023-12-16T03:47:15.790074Z"
    },
    "papermill": {
     "duration": 0.016121,
     "end_time": "2023-12-16T03:47:15.793121",
     "exception": false,
     "start_time": "2023-12-16T03:47:15.777000",
     "status": "completed"
    },
    "tags": []
   },
   "outputs": [],
   "source": [
    "batch_size = 100\n",
    "\n",
    "train_load = torch.utils.data.DataLoader(dataset=train_dataset,\n",
    "                                        batch_size=batch_size,\n",
    "                                        shuffle=True)\n",
    "\n",
    "test_load = torch.utils.data.DataLoader(dataset=test_dataset,\n",
    "                                       batch_size=batch_size,\n",
    "                                       shuffle=False)\n",
    "\n"
   ]
  },
  {
   "cell_type": "code",
   "execution_count": 6,
   "id": "2f178ca9",
   "metadata": {
    "execution": {
     "iopub.execute_input": "2023-12-16T03:47:15.809163Z",
     "iopub.status.busy": "2023-12-16T03:47:15.808848Z",
     "iopub.status.idle": "2023-12-16T03:47:15.814602Z",
     "shell.execute_reply": "2023-12-16T03:47:15.813747Z"
    },
    "papermill": {
     "duration": 0.0157,
     "end_time": "2023-12-16T03:47:15.816662",
     "exception": false,
     "start_time": "2023-12-16T03:47:15.800962",
     "status": "completed"
    },
    "tags": []
   },
   "outputs": [
    {
     "data": {
      "text/plain": [
       "600"
      ]
     },
     "execution_count": 6,
     "metadata": {},
     "output_type": "execute_result"
    }
   ],
   "source": [
    "len(train_load)"
   ]
  },
  {
   "cell_type": "markdown",
   "id": "e8173ef0",
   "metadata": {
    "papermill": {
     "duration": 0.007921,
     "end_time": "2023-12-16T03:47:15.832225",
     "exception": false,
     "start_time": "2023-12-16T03:47:15.824304",
     "status": "completed"
    },
    "tags": []
   },
   "source": [
    "## building the model "
   ]
  },
  {
   "cell_type": "code",
   "execution_count": 7,
   "id": "9dd1d667",
   "metadata": {
    "execution": {
     "iopub.execute_input": "2023-12-16T03:47:15.848361Z",
     "iopub.status.busy": "2023-12-16T03:47:15.848100Z",
     "iopub.status.idle": "2023-12-16T03:47:15.858448Z",
     "shell.execute_reply": "2023-12-16T03:47:15.857536Z"
    },
    "papermill": {
     "duration": 0.020923,
     "end_time": "2023-12-16T03:47:15.860373",
     "exception": false,
     "start_time": "2023-12-16T03:47:15.839450",
     "status": "completed"
    },
    "tags": []
   },
   "outputs": [],
   "source": [
    "class CNN(nn.Module):\n",
    "    def __init__(self):\n",
    "        super(CNN, self).__init__()\n",
    "        self.cnn1 = nn.Conv2d(in_channels=1,\n",
    "                             out_channels=8,\n",
    "                             kernel_size=3,\n",
    "                             stride=1,\n",
    "                             padding=1)\n",
    "        self.batchnorm1 = nn.BatchNorm2d(8)\n",
    "        self.relu = nn.ReLU()\n",
    "        self.maxpool = nn.MaxPool2d(kernel_size=2)\n",
    "        # the output size\n",
    "        self.cnn2 = nn.Conv2d(in_channels=8,\n",
    "                             out_channels=32,\n",
    "                             kernel_size=5,\n",
    "                             stride=1,\n",
    "                             padding=2)\n",
    "        # Output size of each of the 32 feature maps()\n",
    "        self.batchnorm2 = nn.BatchNorm2d(32)\n",
    "        self.fc1 = nn.Linear(1568, 600)\n",
    "        self.dropout = nn.Dropout(p=0.5)\n",
    "        self.fc2 = nn.Linear(600, 10)\n",
    "        \n",
    "        \n",
    "    def forward(self, x):\n",
    "        out = self.cnn1(x)\n",
    "        out = self.batchnorm1(out)\n",
    "        out = self.relu(out)\n",
    "        out = self.maxpool(out)\n",
    "        out = self.cnn2(out)\n",
    "        out = self.batchnorm2(out)\n",
    "        out = self.relu(out)\n",
    "        out = self.maxpool(out)\n",
    "        out = out.view(-1, 1568)\n",
    "        # then we forward through out fully connected layer\n",
    "        out = self.fc1(out)\n",
    "        out = self.relu(out)\n",
    "        out = self.dropout(out)\n",
    "        out = self.fc2(out)\n",
    "        return out"
   ]
  },
  {
   "cell_type": "code",
   "execution_count": 8,
   "id": "2d12d716",
   "metadata": {
    "execution": {
     "iopub.execute_input": "2023-12-16T03:47:15.875979Z",
     "iopub.status.busy": "2023-12-16T03:47:15.875672Z",
     "iopub.status.idle": "2023-12-16T03:47:18.624831Z",
     "shell.execute_reply": "2023-12-16T03:47:18.623844Z"
    },
    "papermill": {
     "duration": 2.759942,
     "end_time": "2023-12-16T03:47:18.627512",
     "exception": false,
     "start_time": "2023-12-16T03:47:15.867570",
     "status": "completed"
    },
    "tags": []
   },
   "outputs": [],
   "source": [
    "model = CNN()\n",
    "CUDA = torch.cuda.is_available()\n",
    "if CUDA:\n",
    "    model = model.cuda()\n",
    "    \n",
    "loss_fn = nn.CrossEntropyLoss()\n",
    "optimizer = torch.optim.Adam(model.parameters(),\n",
    "                            lr=0.01)\n"
   ]
  },
  {
   "cell_type": "code",
   "execution_count": 9,
   "id": "d0e0aef5",
   "metadata": {
    "execution": {
     "iopub.execute_input": "2023-12-16T03:47:18.643030Z",
     "iopub.status.busy": "2023-12-16T03:47:18.642689Z",
     "iopub.status.idle": "2023-12-16T03:49:56.753108Z",
     "shell.execute_reply": "2023-12-16T03:49:56.752155Z"
    },
    "papermill": {
     "duration": 158.12815,
     "end_time": "2023-12-16T03:49:56.763023",
     "exception": false,
     "start_time": "2023-12-16T03:47:18.634873",
     "status": "completed"
    },
    "tags": []
   },
   "outputs": [
    {
     "name": "stdout",
     "output_type": "stream",
     "text": [
      "Epoch 1/10, Training Loss: 0.5087649396434426, Training Accuracy: 87.11666666666666, Testing Loss: 0.06698098596869385, Testing Accuracy: 98.04\n",
      "Epoch 2/10, Training Loss: 0.14257948209842047, Training Accuracy: 95.935, Testing Loss: 0.04336922458215213, Testing Accuracy: 98.62\n",
      "Epoch 3/10, Training Loss: 0.09895844761321011, Training Accuracy: 97.21166666666667, Testing Loss: 0.0442423191781927, Testing Accuracy: 98.76\n",
      "Epoch 4/10, Training Loss: 0.08231086953853567, Training Accuracy: 97.64666666666666, Testing Loss: 0.04109662747866423, Testing Accuracy: 98.58\n",
      "Epoch 5/10, Training Loss: 0.07467875073043008, Training Accuracy: 97.895, Testing Loss: 0.03510609663743708, Testing Accuracy: 98.99\n",
      "Epoch 6/10, Training Loss: 0.06197473318025004, Training Accuracy: 98.29166666666667, Testing Loss: 0.04429462802090825, Testing Accuracy: 98.73\n",
      "Epoch 7/10, Training Loss: 0.06503085973556154, Training Accuracy: 98.09666666666666, Testing Loss: 0.03048190021440405, Testing Accuracy: 99.09\n",
      "Epoch 8/10, Training Loss: 0.05891443926826469, Training Accuracy: 98.37166666666667, Testing Loss: 0.03863886038247074, Testing Accuracy: 98.94\n",
      "Epoch 9/10, Training Loss: 0.059165481528034435, Training Accuracy: 98.33166666666666, Testing Loss: 0.03829772524901245, Testing Accuracy: 98.87\n",
      "Epoch 10/10, Training Loss: 0.05225793552720764, Training Accuracy: 98.51833333333333, Testing Loss: 0.03605129921713228, Testing Accuracy: 99.0\n"
     ]
    }
   ],
   "source": [
    "# Training the CNN\n",
    "num_epochs = 10\n",
    "train_loss = []\n",
    "train_accuracy = []\n",
    "test_loss = []\n",
    "test_accuracy = []\n",
    "\n",
    "for epoch in range(num_epochs):\n",
    "    correct = 0\n",
    "    iterations = 0\n",
    "    iter_loss = 0.0\n",
    "    \n",
    "    model.train()\n",
    "    \n",
    "    for i,(inputs, labels) in enumerate(train_load):\n",
    "        if CUDA:\n",
    "            inputs = inputs.cuda()\n",
    "            labels = labels.cuda()\n",
    "            \n",
    "        outputs = model(inputs)\n",
    "        loss = loss_fn(outputs, labels)\n",
    "        iter_loss += loss.item()\n",
    "        \n",
    "        optimizer.zero_grad()\n",
    "        loss.backward()\n",
    "        optimizer.step()\n",
    "        \n",
    "        _, predicted = torch.max(outputs, 1)\n",
    "        correct += (predicted == labels).sum().item()\n",
    "        iterations += 1\n",
    "        \n",
    "    train_loss.append(iter_loss/iterations)\n",
    "    train_accuracy.append(100*correct/len(train_dataset))\n",
    "    \n",
    "    testing_loss = 0.0\n",
    "    correct = 0\n",
    "    iterations = 0\n",
    "    \n",
    "    model.eval()\n",
    "    for i, (inputs, labels) in enumerate(test_load):\n",
    "        if CUDA:\n",
    "            inputs = inputs.cuda()\n",
    "            labels = labels.cuda()\n",
    "            \n",
    "        outputs = model(inputs)\n",
    "        loss = loss_fn(outputs, labels)\n",
    "        testing_loss += loss.item()\n",
    "        \n",
    "        _, predicted = torch.max(outputs, 1)\n",
    "        correct += (predicted == labels).sum().item()\n",
    "        iterations +=1\n",
    "        \n",
    "    test_loss.append(testing_loss/iterations)\n",
    "    test_accuracy.append((100*correct/len(test_dataset)))\n",
    "    \n",
    "    print(f\"Epoch {epoch+1}/{num_epochs}, Training Loss: {train_loss[-1]}, Training Accuracy: {train_accuracy[-1]}, Testing Loss: {test_loss[-1]}, Testing Accuracy: {test_accuracy[-1]}\")\n",
    "    \n",
    "        "
   ]
  },
  {
   "cell_type": "code",
   "execution_count": 10,
   "id": "fc1a51d0",
   "metadata": {
    "execution": {
     "iopub.execute_input": "2023-12-16T03:49:56.779725Z",
     "iopub.status.busy": "2023-12-16T03:49:56.779437Z",
     "iopub.status.idle": "2023-12-16T03:49:57.056134Z",
     "shell.execute_reply": "2023-12-16T03:49:57.055214Z"
    },
    "papermill": {
     "duration": 0.287226,
     "end_time": "2023-12-16T03:49:57.058156",
     "exception": false,
     "start_time": "2023-12-16T03:49:56.770930",
     "status": "completed"
    },
    "tags": []
   },
   "outputs": [
    {
     "data": {
      "image/png": "[encoded data removed]",
      "text/plain": [
       "<Figure size 1000x1000 with 1 Axes>"
      ]
     },
     "metadata": {},
     "output_type": "display_data"
    }
   ],
   "source": [
    "# Plotting the loss\n",
    "f = plt.figure(figsize=(10, 10))\n",
    "plt.plot(train_loss, label='Training Loss')\n",
    "plt.plot(test_loss, label='Testing Loss')\n",
    "plt.legend()\n",
    "plt.show()"
   ]
  },
  {
   "cell_type": "code",
   "execution_count": 11,
   "id": "68c510cf",
   "metadata": {
    "execution": {
     "iopub.execute_input": "2023-12-16T03:49:57.075448Z",
     "iopub.status.busy": "2023-12-16T03:49:57.075160Z",
     "iopub.status.idle": "2023-12-16T03:49:57.353067Z",
     "shell.execute_reply": "2023-12-16T03:49:57.352240Z"
    },
    "papermill": {
     "duration": 0.288593,
     "end_time": "2023-12-16T03:49:57.354931",
     "exception": false,
     "start_time": "2023-12-16T03:49:57.066338",
     "status": "completed"
    },
    "tags": []
   },
   "outputs": [
    {
     "data": {
      "image/png": "[encoded data removed]",
      "text/plain": [
       "<Figure size 1000x1000 with 1 Axes>"
      ]
     },
     "metadata": {},
     "output_type": "display_data"
    }
   ],
   "source": [
    "# Plotting the accuracy\n",
    "f = plt.figure(figsize=(10, 10))\n",
    "plt.plot(train_accuracy, label='Training Accuracy')\n",
    "plt.plot(test_accuracy, label='Testing Accuracy')\n",
    "plt.legend()\n",
    "plt.show()"
   ]
  },
  {
   "cell_type": "code",
   "execution_count": 12,
   "id": "a929645a",
   "metadata": {
    "execution": {
     "iopub.execute_input": "2023-12-16T03:49:57.373945Z",
     "iopub.status.busy": "2023-12-16T03:49:57.373646Z",
     "iopub.status.idle": "2023-12-16T03:49:57.389397Z",
     "shell.execute_reply": "2023-12-16T03:49:57.388554Z"
    },
    "papermill": {
     "duration": 0.027202,
     "end_time": "2023-12-16T03:49:57.391280",
     "exception": false,
     "start_time": "2023-12-16T03:49:57.364078",
     "status": "completed"
    },
    "tags": []
   },
   "outputs": [
    {
     "name": "stdout",
     "output_type": "stream",
     "text": [
      "Prediction is : 3\n",
      "Actual is : 3\n"
     ]
    }
   ],
   "source": [
    "img = test_dataset[30][0].resize_((1,1,28,28))\n",
    "label = test_dataset[30][1]\n",
    "\n",
    "model.eval()\n",
    "\n",
    "if CUDA:\n",
    "    model = model.cuda()\n",
    "    img = img.cuda()\n",
    "    \n",
    "outputs = model(img)\n",
    "_, predicted = torch.max(outputs,1)\n",
    "print(f\"Prediction is : {predicted.item()}\")\n",
    "print(f\"Actual is : {label}\")"
   ]
  },
  {
   "cell_type": "code",
   "execution_count": null,
   "id": "55c4ae13",
   "metadata": {
    "papermill": {
     "duration": 0.008444,
     "end_time": "2023-12-16T03:49:57.408382",
     "exception": false,
     "start_time": "2023-12-16T03:49:57.399938",
     "status": "completed"
    },
    "tags": []
   },
   "outputs": [],
   "source": []
  }
 ],
 "metadata": {
  "kaggle": {
   "accelerator": "nvidiaTeslaT4",
   "dataSources": [],
   "dockerImageVersionId": 30627,
   "isGpuEnabled": true,
   "isInternetEnabled": true,
   "language": "python",
   "sourceType": "notebook"
  },
  "kernelspec": {
   "display_name": "Python 3",
   "language": "python",
   "name": "python3"
  },
  "language_info": {
   "codemirror_mode": {
    "name": "ipython",
    "version": 3
   },
   "file_extension": ".py",
   "mimetype": "text/x-python",
   "name": "python",
   "nbconvert_exporter": "python",
   "pygments_lexer": "ipython3",
   "version": "3.10.12"
  },
  "papermill": {
   "default_parameters": {},
   "duration": 171.477683,
   "end_time": "2023-12-16T03:49:58.938550",
   "environment_variables": {},
   "exception": null,
   "input_path": "__notebook__.ipynb",
   "output_path": "__notebook__.ipynb",
   "parameters": {},
   "start_time": "2023-12-16T03:47:07.460867",
   "version": "2.4.0"
  }
 },
 "nbformat": 4,
 "nbformat_minor": 5
}
