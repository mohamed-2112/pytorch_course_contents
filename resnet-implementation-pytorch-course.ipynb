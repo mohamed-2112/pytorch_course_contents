{
 "cells": [
  {
   "cell_type": "markdown",
   "id": "ba57574e",
   "metadata": {
    "_cell_guid": "b1076dfc-b9ad-4769-8c92-a6c4dae69d19",
    "_uuid": "8f2839f25d086af736a60e9eeb907d3b93b6e0e5",
    "papermill": {
     "duration": 0.00377,
     "end_time": "2023-12-18T02:53:17.432301",
     "exception": false,
     "start_time": "2023-12-18T02:53:17.428531",
     "status": "completed"
    },
    "tags": []
   },
   "source": [
    "# Mini ResNet Model"
   ]
  },
  {
   "cell_type": "code",
   "execution_count": 1,
   "id": "2f0ecbdd",
   "metadata": {
    "execution": {
     "iopub.execute_input": "2023-12-18T02:53:17.440946Z",
     "iopub.status.busy": "2023-12-18T02:53:17.440206Z",
     "iopub.status.idle": "2023-12-18T02:53:20.907912Z",
     "shell.execute_reply": "2023-12-18T02:53:20.907075Z"
    },
    "papermill": {
     "duration": 3.474771,
     "end_time": "2023-12-18T02:53:20.910412",
     "exception": false,
     "start_time": "2023-12-18T02:53:17.435641",
     "status": "completed"
    },
    "tags": []
   },
   "outputs": [],
   "source": [
    "import torch\n",
    "import torch.nn as nn\n",
    "import torchvision\n",
    "import torchvision.transforms as transforms"
   ]
  },
  {
   "cell_type": "code",
   "execution_count": 2,
   "id": "2df8e96f",
   "metadata": {
    "execution": {
     "iopub.execute_input": "2023-12-18T02:53:20.918895Z",
     "iopub.status.busy": "2023-12-18T02:53:20.918348Z",
     "iopub.status.idle": "2023-12-18T02:53:32.125450Z",
     "shell.execute_reply": "2023-12-18T02:53:32.124696Z"
    },
    "papermill": {
     "duration": 11.213864,
     "end_time": "2023-12-18T02:53:32.127876",
     "exception": false,
     "start_time": "2023-12-18T02:53:20.914012",
     "status": "completed"
    },
    "tags": []
   },
   "outputs": [
    {
     "name": "stdout",
     "output_type": "stream",
     "text": [
      "Downloading https://www.cs.toronto.edu/~kriz/cifar-10-python.tar.gz to ../../data/cifar-10-python.tar.gz\n"
     ]
    },
    {
     "name": "stderr",
     "output_type": "stream",
     "text": [
      "100%|██████████| 170498071/170498071 [00:02<00:00, 59116516.94it/s]\n"
     ]
    },
    {
     "name": "stdout",
     "output_type": "stream",
     "text": [
      "Extracting ../../data/cifar-10-python.tar.gz to ../../data/\n"
     ]
    }
   ],
   "source": [
    "# Device configuration\n",
    "device = torch.device('cuda' if torch.cuda.is_available() else 'cpu')\n",
    "\n",
    "# Hyper-parameters\n",
    "num_epochs = 30\n",
    "batch_size = 100\n",
    "learning_rate = 0.001\n",
    "\n",
    "# Image preprocessing modules\n",
    "transform = transforms.Compose([\n",
    "    transforms.Pad(4),\n",
    "    transforms.RandomHorizontalFlip(),\n",
    "    transforms.RandomCrop(32),\n",
    "    transforms.ToTensor()\n",
    "])\n",
    "\n",
    "# CIFAR-10 dataset\n",
    "train_dataset = torchvision.datasets.CIFAR10(root='../../data/',\n",
    "                                            train=True,\n",
    "                                            transform=transform,\n",
    "                                            download=True)\n",
    "test_dataset = torchvision.datasets.CIFAR10(root='../../data/',\n",
    "                                           train=False,\n",
    "                                           transform=transforms.ToTensor())\n",
    "# Data Loader\n",
    "train_loader = torch.utils.data.DataLoader(dataset=train_dataset,\n",
    "                                          batch_size=batch_size,\n",
    "                                          shuffle=True)\n",
    "\n",
    "test_loader = torch.utils.data.DataLoader(dataset=test_dataset,\n",
    "                                         batch_size=batch_size,\n",
    "                                         shuffle=False)\n",
    "\n"
   ]
  },
  {
   "cell_type": "code",
   "execution_count": 3,
   "id": "6bd0f0cc",
   "metadata": {
    "execution": {
     "iopub.execute_input": "2023-12-18T02:53:32.141937Z",
     "iopub.status.busy": "2023-12-18T02:53:32.141650Z",
     "iopub.status.idle": "2023-12-18T02:53:32.150208Z",
     "shell.execute_reply": "2023-12-18T02:53:32.149271Z"
    },
    "papermill": {
     "duration": 0.017611,
     "end_time": "2023-12-18T02:53:32.152066",
     "exception": false,
     "start_time": "2023-12-18T02:53:32.134455",
     "status": "completed"
    },
    "tags": []
   },
   "outputs": [],
   "source": [
    "def conv3x3(in_channels, out_channels, stride=1):\n",
    "    return nn.Conv2d(in_channels, out_channels, kernel_size=3, stride=stride, padding=1, bias=False)\n",
    "\n",
    "class ResidualBlock(nn.Module):\n",
    "    def __init__(self, in_channels, out_channels, stride=1, downsample=None):\n",
    "        super(ResidualBlock, self).__init__()\n",
    "        self.conv1 = conv3x3(in_channels, out_channels, stride)\n",
    "        self.bn1 = nn.BatchNorm2d(out_channels)\n",
    "        self.relu = nn.ReLU(inplace=True)\n",
    "        self.conv2 = conv3x3(out_channels, out_channels)\n",
    "        self.bn2 = nn.BatchNorm2d(out_channels)\n",
    "        self.downsample = downsample\n",
    "        \n",
    "    def forward(self, x):\n",
    "        residual = x\n",
    "        out = self.conv1(x)\n",
    "        out = self.bn1(out)\n",
    "        out = self.relu(out)\n",
    "        out = self.conv2(out)\n",
    "        out = self.bn2(out)\n",
    "        if self.downsample:\n",
    "            residual = self.downsample(x)\n",
    "        out += residual\n",
    "        out = self.relu(out)\n",
    "        return out"
   ]
  },
  {
   "cell_type": "code",
   "execution_count": 4,
   "id": "256159a8",
   "metadata": {
    "execution": {
     "iopub.execute_input": "2023-12-18T02:53:32.165278Z",
     "iopub.status.busy": "2023-12-18T02:53:32.164666Z",
     "iopub.status.idle": "2023-12-18T02:53:32.175533Z",
     "shell.execute_reply": "2023-12-18T02:53:32.174847Z"
    },
    "papermill": {
     "duration": 0.019456,
     "end_time": "2023-12-18T02:53:32.177421",
     "exception": false,
     "start_time": "2023-12-18T02:53:32.157965",
     "status": "completed"
    },
    "tags": []
   },
   "outputs": [],
   "source": [
    "class ResNet(nn.Module):\n",
    "    def __init__(self, block, layers, num_classes=10):\n",
    "        super(ResNet, self).__init__()\n",
    "        self.in_channels = 16\n",
    "        self.conv = conv3x3(3, 16)\n",
    "        self.bn = nn.BatchNorm2d(16)\n",
    "        self.relu = nn.ReLU(inplace=True)\n",
    "        self.layer1 = self.make_layer(block, 16, layers[0])\n",
    "        self.layer2 = self.make_layer(block, 32, layers[1], 2)\n",
    "        self.layer3 = self.make_layer(block, 64, layers[2], 2)\n",
    "        self.avg_pool = nn.AvgPool2d(8)\n",
    "        self.fc = nn.Linear(64, num_classes)\n",
    "        \n",
    "    def make_layer(self, block, out_channels, blocks, stride=1):\n",
    "        downsample = None\n",
    "        if (stride != 1) or (self.in_channels != out_channels):\n",
    "            downsample = nn.Sequential(conv3x3(self.in_channels, out_channels, stride=stride),\n",
    "                                       nn.BatchNorm2d(out_channels))\n",
    "        layers = []\n",
    "        layers.append(block(self.in_channels, out_channels, stride, downsample))\n",
    "        self.in_channels = out_channels\n",
    "        for i in range(1, blocks):\n",
    "            layers.append(block(out_channels, out_channels))\n",
    "        return nn.Sequential(*layers)\n",
    "    \n",
    "    def forward(self, x):\n",
    "        out = self.conv(x)\n",
    "        out = self.bn(out)\n",
    "        out = self.relu(out)\n",
    "        out = self.layer1(out)\n",
    "        out = self.layer2(out)\n",
    "        out = self.layer3(out)\n",
    "        out = self.avg_pool(out)\n",
    "        out = out.view(out.size(0), -1)\n",
    "        out = self.fc(out)\n",
    "        return out"
   ]
  },
  {
   "cell_type": "code",
   "execution_count": 5,
   "id": "61613580",
   "metadata": {
    "execution": {
     "iopub.execute_input": "2023-12-18T02:53:32.190369Z",
     "iopub.status.busy": "2023-12-18T02:53:32.189758Z",
     "iopub.status.idle": "2023-12-18T02:53:34.884656Z",
     "shell.execute_reply": "2023-12-18T02:53:34.883806Z"
    },
    "papermill": {
     "duration": 2.703742,
     "end_time": "2023-12-18T02:53:34.887082",
     "exception": false,
     "start_time": "2023-12-18T02:53:32.183340",
     "status": "completed"
    },
    "tags": []
   },
   "outputs": [],
   "source": [
    "model = ResNet(ResidualBlock, [2, 2, 2]).to(device)\n",
    "criterion = nn.CrossEntropyLoss()\n",
    "optimizer = torch.optim.Adam(model.parameters(), lr=learning_rate)"
   ]
  },
  {
   "cell_type": "code",
   "execution_count": 6,
   "id": "4bad8dde",
   "metadata": {
    "execution": {
     "iopub.execute_input": "2023-12-18T02:53:34.901371Z",
     "iopub.status.busy": "2023-12-18T02:53:34.900521Z",
     "iopub.status.idle": "2023-12-18T03:02:20.522852Z",
     "shell.execute_reply": "2023-12-18T03:02:20.521876Z"
    },
    "papermill": {
     "duration": 525.631578,
     "end_time": "2023-12-18T03:02:20.524944",
     "exception": false,
     "start_time": "2023-12-18T02:53:34.893366",
     "status": "completed"
    },
    "tags": []
   },
   "outputs": [
    {
     "name": "stdout",
     "output_type": "stream",
     "text": [
      "Epoch [1/30], step [100/500], Loss 1.7886300086975098\n",
      "Epoch [1/30], step [200/500], Loss 1.4154130220413208\n",
      "Epoch [1/30], step [300/500], Loss 1.4515981674194336\n",
      "Epoch [1/30], step [400/500], Loss 1.2049803733825684\n",
      "Epoch [1/30], step [500/500], Loss 1.0533392429351807\n",
      "Epoch [2/30], step [100/500], Loss 1.064954400062561\n",
      "Epoch [2/30], step [200/500], Loss 1.1049596071243286\n",
      "Epoch [2/30], step [300/500], Loss 0.9729300737380981\n",
      "Epoch [2/30], step [400/500], Loss 1.1058732271194458\n",
      "Epoch [2/30], step [500/500], Loss 0.9754817485809326\n",
      "Epoch [3/30], step [100/500], Loss 0.9646298885345459\n",
      "Epoch [3/30], step [200/500], Loss 0.8280516862869263\n",
      "Epoch [3/30], step [300/500], Loss 1.0032823085784912\n",
      "Epoch [3/30], step [400/500], Loss 0.7891208529472351\n",
      "Epoch [3/30], step [500/500], Loss 0.8497903943061829\n",
      "Epoch [4/30], step [100/500], Loss 0.8383074998855591\n",
      "Epoch [4/30], step [200/500], Loss 0.6544916033744812\n",
      "Epoch [4/30], step [300/500], Loss 0.7271671295166016\n",
      "Epoch [4/30], step [400/500], Loss 0.7230997681617737\n",
      "Epoch [4/30], step [500/500], Loss 0.5021035075187683\n",
      "Epoch [5/30], step [100/500], Loss 0.5892695784568787\n",
      "Epoch [5/30], step [200/500], Loss 0.8273996114730835\n",
      "Epoch [5/30], step [300/500], Loss 0.7018750905990601\n",
      "Epoch [5/30], step [400/500], Loss 0.7192786931991577\n",
      "Epoch [5/30], step [500/500], Loss 0.6744028329849243\n",
      "Epoch [6/30], step [100/500], Loss 0.5990038514137268\n",
      "Epoch [6/30], step [200/500], Loss 0.5448992252349854\n",
      "Epoch [6/30], step [300/500], Loss 0.6051585674285889\n",
      "Epoch [6/30], step [400/500], Loss 0.5941777229309082\n",
      "Epoch [6/30], step [500/500], Loss 0.6221511363983154\n",
      "Epoch [7/30], step [100/500], Loss 0.6309435963630676\n",
      "Epoch [7/30], step [200/500], Loss 0.679333508014679\n",
      "Epoch [7/30], step [300/500], Loss 0.5386499166488647\n",
      "Epoch [7/30], step [400/500], Loss 0.5465752482414246\n",
      "Epoch [7/30], step [500/500], Loss 0.6265692710876465\n",
      "Epoch [8/30], step [100/500], Loss 0.6164947748184204\n",
      "Epoch [8/30], step [200/500], Loss 0.7180938124656677\n",
      "Epoch [8/30], step [300/500], Loss 0.5577332377433777\n",
      "Epoch [8/30], step [400/500], Loss 0.5082624554634094\n",
      "Epoch [8/30], step [500/500], Loss 0.37738335132598877\n",
      "Epoch [9/30], step [100/500], Loss 0.5526772737503052\n",
      "Epoch [9/30], step [200/500], Loss 0.5906447768211365\n",
      "Epoch [9/30], step [300/500], Loss 0.5352745652198792\n",
      "Epoch [9/30], step [400/500], Loss 0.5950492024421692\n",
      "Epoch [9/30], step [500/500], Loss 0.47087424993515015\n",
      "Epoch [10/30], step [100/500], Loss 0.6676374077796936\n",
      "Epoch [10/30], step [200/500], Loss 0.5512450933456421\n",
      "Epoch [10/30], step [300/500], Loss 0.5967875719070435\n",
      "Epoch [10/30], step [400/500], Loss 0.731913149356842\n",
      "Epoch [10/30], step [500/500], Loss 0.5645357370376587\n",
      "Epoch [11/30], step [100/500], Loss 0.44278594851493835\n",
      "Epoch [11/30], step [200/500], Loss 0.51273113489151\n",
      "Epoch [11/30], step [300/500], Loss 0.4534638226032257\n",
      "Epoch [11/30], step [400/500], Loss 0.3884434401988983\n",
      "Epoch [11/30], step [500/500], Loss 0.694474458694458\n",
      "Epoch [12/30], step [100/500], Loss 0.43954142928123474\n",
      "Epoch [12/30], step [200/500], Loss 0.4563261866569519\n",
      "Epoch [12/30], step [300/500], Loss 0.5004787445068359\n",
      "Epoch [12/30], step [400/500], Loss 0.400127649307251\n",
      "Epoch [12/30], step [500/500], Loss 0.5348919630050659\n",
      "Epoch [13/30], step [100/500], Loss 0.37055352330207825\n",
      "Epoch [13/30], step [200/500], Loss 0.2936161160469055\n",
      "Epoch [13/30], step [300/500], Loss 0.30424991250038147\n",
      "Epoch [13/30], step [400/500], Loss 0.4788690209388733\n",
      "Epoch [13/30], step [500/500], Loss 0.4468356668949127\n",
      "Epoch [14/30], step [100/500], Loss 0.3716476559638977\n",
      "Epoch [14/30], step [200/500], Loss 0.3396930396556854\n",
      "Epoch [14/30], step [300/500], Loss 0.6492446064949036\n",
      "Epoch [14/30], step [400/500], Loss 0.5048579573631287\n",
      "Epoch [14/30], step [500/500], Loss 0.5758726000785828\n",
      "Epoch [15/30], step [100/500], Loss 0.3925752341747284\n",
      "Epoch [15/30], step [200/500], Loss 0.39779672026634216\n",
      "Epoch [15/30], step [300/500], Loss 0.49016818404197693\n",
      "Epoch [15/30], step [400/500], Loss 0.4461406469345093\n",
      "Epoch [15/30], step [500/500], Loss 0.34792548418045044\n",
      "Epoch [16/30], step [100/500], Loss 0.3361828625202179\n",
      "Epoch [16/30], step [200/500], Loss 0.4046332538127899\n",
      "Epoch [16/30], step [300/500], Loss 0.42548906803131104\n",
      "Epoch [16/30], step [400/500], Loss 0.35548505187034607\n",
      "Epoch [16/30], step [500/500], Loss 0.1874808520078659\n",
      "Epoch [17/30], step [100/500], Loss 0.38953831791877747\n",
      "Epoch [17/30], step [200/500], Loss 0.38451308012008667\n",
      "Epoch [17/30], step [300/500], Loss 0.32190608978271484\n",
      "Epoch [17/30], step [400/500], Loss 0.40482407808303833\n",
      "Epoch [17/30], step [500/500], Loss 0.21831171214580536\n",
      "Epoch [18/30], step [100/500], Loss 0.38273942470550537\n",
      "Epoch [18/30], step [200/500], Loss 0.36373233795166016\n",
      "Epoch [18/30], step [300/500], Loss 0.30031582713127136\n",
      "Epoch [18/30], step [400/500], Loss 0.5314249992370605\n",
      "Epoch [18/30], step [500/500], Loss 0.3761461675167084\n",
      "Epoch [19/30], step [100/500], Loss 0.5157755613327026\n",
      "Epoch [19/30], step [200/500], Loss 0.5167479515075684\n",
      "Epoch [19/30], step [300/500], Loss 0.309800386428833\n",
      "Epoch [19/30], step [400/500], Loss 0.36196964979171753\n",
      "Epoch [19/30], step [500/500], Loss 0.37500888109207153\n",
      "The new learning rate is 0.0005\n",
      "Epoch [20/30], step [100/500], Loss 0.38648098707199097\n",
      "Epoch [20/30], step [200/500], Loss 0.2680550813674927\n",
      "Epoch [20/30], step [300/500], Loss 0.4105582535266876\n",
      "Epoch [20/30], step [400/500], Loss 0.32811278104782104\n",
      "Epoch [20/30], step [500/500], Loss 0.43042418360710144\n",
      "Epoch [21/30], step [100/500], Loss 0.267498254776001\n",
      "Epoch [21/30], step [200/500], Loss 0.22206048667430878\n",
      "Epoch [21/30], step [300/500], Loss 0.2796439230442047\n",
      "Epoch [21/30], step [400/500], Loss 0.38181519508361816\n",
      "Epoch [21/30], step [500/500], Loss 0.20492534339427948\n",
      "Epoch [22/30], step [100/500], Loss 0.3502470850944519\n",
      "Epoch [22/30], step [200/500], Loss 0.19177983701229095\n",
      "Epoch [22/30], step [300/500], Loss 0.31776002049446106\n",
      "Epoch [22/30], step [400/500], Loss 0.356455534696579\n",
      "Epoch [22/30], step [500/500], Loss 0.38411659002304077\n",
      "Epoch [23/30], step [100/500], Loss 0.3198632597923279\n",
      "Epoch [23/30], step [200/500], Loss 0.30145612359046936\n",
      "Epoch [23/30], step [300/500], Loss 0.280187726020813\n",
      "Epoch [23/30], step [400/500], Loss 0.3521476686000824\n",
      "Epoch [23/30], step [500/500], Loss 0.26564598083496094\n",
      "Epoch [24/30], step [100/500], Loss 0.2035750150680542\n",
      "Epoch [24/30], step [200/500], Loss 0.3422025442123413\n",
      "Epoch [24/30], step [300/500], Loss 0.2544446885585785\n",
      "Epoch [24/30], step [400/500], Loss 0.32103675603866577\n",
      "Epoch [24/30], step [500/500], Loss 0.23107212781906128\n",
      "Epoch [25/30], step [100/500], Loss 0.35576847195625305\n",
      "Epoch [25/30], step [200/500], Loss 0.24159075319766998\n",
      "Epoch [25/30], step [300/500], Loss 0.3642393946647644\n",
      "Epoch [25/30], step [400/500], Loss 0.3132416605949402\n",
      "Epoch [25/30], step [500/500], Loss 0.26408669352531433\n",
      "Epoch [26/30], step [100/500], Loss 0.23703263700008392\n",
      "Epoch [26/30], step [200/500], Loss 0.23305688798427582\n",
      "Epoch [26/30], step [300/500], Loss 0.1899685263633728\n",
      "Epoch [26/30], step [400/500], Loss 0.23962607979774475\n",
      "Epoch [26/30], step [500/500], Loss 0.39144501090049744\n",
      "Epoch [27/30], step [100/500], Loss 0.23627272248268127\n",
      "Epoch [27/30], step [200/500], Loss 0.2934727668762207\n",
      "Epoch [27/30], step [300/500], Loss 0.31131449341773987\n",
      "Epoch [27/30], step [400/500], Loss 0.17433729767799377\n",
      "Epoch [27/30], step [500/500], Loss 0.3535107374191284\n",
      "Epoch [28/30], step [100/500], Loss 0.21508435904979706\n",
      "Epoch [28/30], step [200/500], Loss 0.2566998600959778\n",
      "Epoch [28/30], step [300/500], Loss 0.2368043065071106\n",
      "Epoch [28/30], step [400/500], Loss 0.2183937430381775\n",
      "Epoch [28/30], step [500/500], Loss 0.3382784128189087\n",
      "Epoch [29/30], step [100/500], Loss 0.22709476947784424\n",
      "Epoch [29/30], step [200/500], Loss 0.2637562155723572\n",
      "Epoch [29/30], step [300/500], Loss 0.3846006691455841\n",
      "Epoch [29/30], step [400/500], Loss 0.3276647627353668\n",
      "Epoch [29/30], step [500/500], Loss 0.2697613537311554\n",
      "Epoch [30/30], step [100/500], Loss 0.2758651077747345\n",
      "Epoch [30/30], step [200/500], Loss 0.30232638120651245\n",
      "Epoch [30/30], step [300/500], Loss 0.24800682067871094\n",
      "Epoch [30/30], step [400/500], Loss 0.39615166187286377\n",
      "Epoch [30/30], step [500/500], Loss 0.23244021832942963\n"
     ]
    }
   ],
   "source": [
    "decay = 0\n",
    "model.train()\n",
    "for epoch in range(num_epochs):\n",
    "    \n",
    "    # Decay the learning rate by a factor of 0.5 every 20 epochs\n",
    "    if (epoch+1) % 20 == 0:\n",
    "        decay+=1\n",
    "        optimizer.param_groups[0]['lr'] = learning_rate * (0.5 ** decay)\n",
    "        print(f\"The new learning rate is {optimizer.param_groups[0]['lr']}\")\n",
    "        \n",
    "    for i, (images, labels) in enumerate(train_loader):\n",
    "        images = images.to(device)\n",
    "        labels = labels.to(device)\n",
    "        outputs = model(images)\n",
    "        loss = criterion(outputs, labels)\n",
    "        optimizer.zero_grad()\n",
    "        loss.backward()\n",
    "        optimizer.step()\n",
    "        \n",
    "        if (i+1) % 100 == 0:\n",
    "            print(f\"Epoch [{epoch+1}/{num_epochs}], step [{i+1}/{len(train_loader)}], Loss {loss.item()}\")\n",
    "        "
   ]
  },
  {
   "cell_type": "code",
   "execution_count": 7,
   "id": "0f39b004",
   "metadata": {
    "execution": {
     "iopub.execute_input": "2023-12-18T03:02:20.561923Z",
     "iopub.status.busy": "2023-12-18T03:02:20.561599Z",
     "iopub.status.idle": "2023-12-18T03:02:22.259482Z",
     "shell.execute_reply": "2023-12-18T03:02:22.258393Z"
    },
    "papermill": {
     "duration": 1.718293,
     "end_time": "2023-12-18T03:02:22.261573",
     "exception": false,
     "start_time": "2023-12-18T03:02:20.543280",
     "status": "completed"
    },
    "tags": []
   },
   "outputs": [
    {
     "name": "stdout",
     "output_type": "stream",
     "text": [
      "Accuracy of the model on the test images: 86.87\n"
     ]
    }
   ],
   "source": [
    "# Test the model\n",
    "model.eval()\n",
    "with torch.no_grad():\n",
    "    correct = 0\n",
    "    total = 0\n",
    "    for images, labels in test_loader:\n",
    "        images = images.to(device)\n",
    "        labels = labels.to(device)\n",
    "        outputs = model(images)\n",
    "        _, predicted = torch.max(outputs.data, 1)\n",
    "        total += labels.size(0)\n",
    "        correct += (predicted == labels).sum().item()\n",
    "        \n",
    "    print(f\"Accuracy of the model on the test images: {100*correct/total}\")"
   ]
  },
  {
   "cell_type": "code",
   "execution_count": null,
   "id": "c8ede760",
   "metadata": {
    "papermill": {
     "duration": 0.017797,
     "end_time": "2023-12-18T03:02:22.296940",
     "exception": false,
     "start_time": "2023-12-18T03:02:22.279143",
     "status": "completed"
    },
    "tags": []
   },
   "outputs": [],
   "source": []
  },
  {
   "cell_type": "code",
   "execution_count": null,
   "id": "7bcf491f",
   "metadata": {
    "papermill": {
     "duration": 0.017043,
     "end_time": "2023-12-18T03:02:22.331545",
     "exception": false,
     "start_time": "2023-12-18T03:02:22.314502",
     "status": "completed"
    },
    "tags": []
   },
   "outputs": [],
   "source": []
  }
 ],
 "metadata": {
  "kaggle": {
   "accelerator": "nvidiaTeslaT4",
   "dataSources": [],
   "dockerImageVersionId": 30627,
   "isGpuEnabled": true,
   "isInternetEnabled": true,
   "language": "python",
   "sourceType": "notebook"
  },
  "kernelspec": {
   "display_name": "Python 3",
   "language": "python",
   "name": "python3"
  },
  "language_info": {
   "codemirror_mode": {
    "name": "ipython",
    "version": 3
   },
   "file_extension": ".py",
   "mimetype": "text/x-python",
   "name": "python",
   "nbconvert_exporter": "python",
   "pygments_lexer": "ipython3",
   "version": "3.10.12"
  },
  "papermill": {
   "default_parameters": {},
   "duration": 550.69619,
   "end_time": "2023-12-18T03:02:24.775148",
   "environment_variables": {},
   "exception": null,
   "input_path": "__notebook__.ipynb",
   "output_path": "__notebook__.ipynb",
   "parameters": {},
   "start_time": "2023-12-18T02:53:14.078958",
   "version": "2.4.0"
  }
 },
 "nbformat": 4,
 "nbformat_minor": 5
}
