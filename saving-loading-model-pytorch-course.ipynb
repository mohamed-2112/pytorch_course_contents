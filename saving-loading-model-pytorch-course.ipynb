{
 "cells": [
  {
   "cell_type": "code",
   "execution_count": 1,
   "id": "1412557e",
   "metadata": {
    "execution": {
     "iopub.execute_input": "2023-12-30T01:49:04.832695Z",
     "iopub.status.busy": "2023-12-30T01:49:04.832370Z",
     "iopub.status.idle": "2023-12-30T01:49:10.660665Z",
     "shell.execute_reply": "2023-12-30T01:49:10.659645Z"
    },
    "papermill": {
     "duration": 5.837751,
     "end_time": "2023-12-30T01:49:10.663577",
     "exception": false,
     "start_time": "2023-12-30T01:49:04.825826",
     "status": "completed"
    },
    "tags": []
   },
   "outputs": [
    {
     "name": "stderr",
     "output_type": "stream",
     "text": [
      "/opt/conda/lib/python3.10/site-packages/scipy/__init__.py:146: UserWarning: A NumPy version >=1.16.5 and <1.23.0 is required for this version of SciPy (detected version 1.24.3\n",
      "  warnings.warn(f\"A NumPy version >={np_minversion} and <{np_maxversion}\"\n"
     ]
    }
   ],
   "source": [
    "import torch\n",
    "import torch.nn as nn\n",
    "import torchvision.transforms as transforms\n",
    "import torch.nn.functional as F\n",
    "from skimage.io import imread\n",
    "from skimage.transform import resize as imresize"
   ]
  },
  {
   "cell_type": "code",
   "execution_count": 2,
   "id": "c3d6ab03",
   "metadata": {
    "_cell_guid": "b1076dfc-b9ad-4769-8c92-a6c4dae69d19",
    "_uuid": "8f2839f25d086af736a60e9eeb907d3b93b6e0e5",
    "execution": {
     "iopub.execute_input": "2023-12-30T01:49:10.675691Z",
     "iopub.status.busy": "2023-12-30T01:49:10.675154Z",
     "iopub.status.idle": "2023-12-30T01:49:10.684108Z",
     "shell.execute_reply": "2023-12-30T01:49:10.683042Z"
    },
    "papermill": {
     "duration": 0.017412,
     "end_time": "2023-12-30T01:49:10.686377",
     "exception": false,
     "start_time": "2023-12-30T01:49:10.668965",
     "status": "completed"
    },
    "tags": []
   },
   "outputs": [],
   "source": [
    "def process_image(image):\n",
    "    img = imread(image)\n",
    "    img = imresize(img, (256, 256))   #256x256x3\n",
    "    img = img.transpose(2, 0, 1)   #channels first\n",
    "    img = img / 255.\n",
    "    img = torch.FloatTensor(img).cuda()\n",
    "    normalize = transforms.Normalize(mean=[0.485, 0.456, 0.406],std=[0.229, 0.224, 0.225])\n",
    "    transform = transforms.Compose([normalize])\n",
    "    img = transform(img)  # (3, 256, 256)\n",
    "    return img"
   ]
  },
  {
   "cell_type": "code",
   "execution_count": 3,
   "id": "74e0c56e",
   "metadata": {
    "execution": {
     "iopub.execute_input": "2023-12-30T01:49:10.698712Z",
     "iopub.status.busy": "2023-12-30T01:49:10.697893Z",
     "iopub.status.idle": "2023-12-30T01:49:10.707394Z",
     "shell.execute_reply": "2023-12-30T01:49:10.706473Z"
    },
    "papermill": {
     "duration": 0.018028,
     "end_time": "2023-12-30T01:49:10.709745",
     "exception": false,
     "start_time": "2023-12-30T01:49:10.691717",
     "status": "completed"
    },
    "tags": []
   },
   "outputs": [],
   "source": [
    "class CNN(nn.Module):\n",
    "    def __init__(self):\n",
    "        super(CNN, self).__init__()\n",
    "        self.conv1 = nn.Conv2d(3, 6, 5)\n",
    "        self.pool = nn.MaxPool2d(2, 2)\n",
    "        self.conv2 = nn.Conv2d(6, 12, 5)\n",
    "        self.fc1 = nn.Linear(12*61*61, 120)\n",
    "        self.fc2 = nn.Linear(120, 10)\n",
    "        \n",
    "    def forward(self, x):\n",
    "        x = F.relu(self.conv1(x))\n",
    "        x = self.pool(x)\n",
    "        x = F.relu(self.conv2(x))\n",
    "        x = self.pool(x)\n",
    "        x = x.view(-1, 12 * 61 * 61)\n",
    "        x = F.relu(self.fc1(x))\n",
    "        x = self.fc2(x)\n",
    "        return x"
   ]
  },
  {
   "cell_type": "code",
   "execution_count": 4,
   "id": "5c4b12eb",
   "metadata": {
    "execution": {
     "iopub.execute_input": "2023-12-30T01:49:10.724349Z",
     "iopub.status.busy": "2023-12-30T01:49:10.723702Z",
     "iopub.status.idle": "2023-12-30T01:49:14.319109Z",
     "shell.execute_reply": "2023-12-30T01:49:14.318275Z"
    },
    "papermill": {
     "duration": 3.604835,
     "end_time": "2023-12-30T01:49:14.321332",
     "exception": false,
     "start_time": "2023-12-30T01:49:10.716497",
     "status": "completed"
    },
    "tags": []
   },
   "outputs": [],
   "source": [
    "model = CNN()\n",
    "model = model.cuda()\n",
    "optimizer = torch.optim.SGD(model.parameters(), lr=0.001, momentum=0.9)"
   ]
  },
  {
   "cell_type": "code",
   "execution_count": 5,
   "id": "95eaed64",
   "metadata": {
    "execution": {
     "iopub.execute_input": "2023-12-30T01:49:14.333238Z",
     "iopub.status.busy": "2023-12-30T01:49:14.332893Z",
     "iopub.status.idle": "2023-12-30T01:49:14.481940Z",
     "shell.execute_reply": "2023-12-30T01:49:14.480918Z"
    },
    "papermill": {
     "duration": 0.157575,
     "end_time": "2023-12-30T01:49:14.484405",
     "exception": false,
     "start_time": "2023-12-30T01:49:14.326830",
     "status": "completed"
    },
    "tags": []
   },
   "outputs": [],
   "source": [
    "image = process_image(\"/kaggle/input/test-image-1/test.jpg\")\n",
    "image = image.unsqueeze(0)"
   ]
  },
  {
   "cell_type": "code",
   "execution_count": 6,
   "id": "219cd9b3",
   "metadata": {
    "execution": {
     "iopub.execute_input": "2023-12-30T01:49:14.495605Z",
     "iopub.status.busy": "2023-12-30T01:49:14.495266Z",
     "iopub.status.idle": "2023-12-30T01:49:20.689561Z",
     "shell.execute_reply": "2023-12-30T01:49:20.688693Z"
    },
    "papermill": {
     "duration": 6.202469,
     "end_time": "2023-12-30T01:49:20.691988",
     "exception": false,
     "start_time": "2023-12-30T01:49:14.489519",
     "status": "completed"
    },
    "tags": []
   },
   "outputs": [],
   "source": [
    "output = model(image)"
   ]
  },
  {
   "cell_type": "code",
   "execution_count": 7,
   "id": "0e6dd393",
   "metadata": {
    "execution": {
     "iopub.execute_input": "2023-12-30T01:49:20.704104Z",
     "iopub.status.busy": "2023-12-30T01:49:20.703754Z",
     "iopub.status.idle": "2023-12-30T01:49:20.708761Z",
     "shell.execute_reply": "2023-12-30T01:49:20.707774Z"
    },
    "papermill": {
     "duration": 0.013394,
     "end_time": "2023-12-30T01:49:20.710795",
     "exception": false,
     "start_time": "2023-12-30T01:49:20.697401",
     "status": "completed"
    },
    "tags": []
   },
   "outputs": [
    {
     "name": "stdout",
     "output_type": "stream",
     "text": [
      "torch.Size([1, 10])\n"
     ]
    }
   ],
   "source": [
    "print(output.shape)"
   ]
  },
  {
   "cell_type": "code",
   "execution_count": 8,
   "id": "5f40b156",
   "metadata": {
    "execution": {
     "iopub.execute_input": "2023-12-30T01:49:20.721389Z",
     "iopub.status.busy": "2023-12-30T01:49:20.721060Z",
     "iopub.status.idle": "2023-12-30T01:49:20.727187Z",
     "shell.execute_reply": "2023-12-30T01:49:20.726145Z"
    },
    "papermill": {
     "duration": 0.013605,
     "end_time": "2023-12-30T01:49:20.729175",
     "exception": false,
     "start_time": "2023-12-30T01:49:20.715570",
     "status": "completed"
    },
    "tags": []
   },
   "outputs": [
    {
     "name": "stdout",
     "output_type": "stream",
     "text": [
      "Model's state_dict:\n",
      "conv1.weight \t torch.Size([6, 3, 5, 5])\n",
      "conv1.bias \t torch.Size([6])\n",
      "conv2.weight \t torch.Size([12, 6, 5, 5])\n",
      "conv2.bias \t torch.Size([12])\n",
      "fc1.weight \t torch.Size([120, 44652])\n",
      "fc1.bias \t torch.Size([120])\n",
      "fc2.weight \t torch.Size([10, 120])\n",
      "fc2.bias \t torch.Size([10])\n"
     ]
    }
   ],
   "source": [
    "print(\"Model's state_dict:\")\n",
    "for param_tensor in model.state_dict():\n",
    "    print(param_tensor, \"\\t\", model.state_dict()[param_tensor].size())"
   ]
  },
  {
   "cell_type": "code",
   "execution_count": 9,
   "id": "25b2b1c0",
   "metadata": {
    "execution": {
     "iopub.execute_input": "2023-12-30T01:49:20.739982Z",
     "iopub.status.busy": "2023-12-30T01:49:20.739679Z",
     "iopub.status.idle": "2023-12-30T01:49:20.788493Z",
     "shell.execute_reply": "2023-12-30T01:49:20.787503Z"
    },
    "papermill": {
     "duration": 0.056804,
     "end_time": "2023-12-30T01:49:20.790786",
     "exception": false,
     "start_time": "2023-12-30T01:49:20.733982",
     "status": "completed"
    },
    "tags": []
   },
   "outputs": [],
   "source": [
    "torch.save(model.state_dict(), 'model.pth.tar')"
   ]
  },
  {
   "cell_type": "code",
   "execution_count": 10,
   "id": "d4353f9b",
   "metadata": {
    "execution": {
     "iopub.execute_input": "2023-12-30T01:49:20.803236Z",
     "iopub.status.busy": "2023-12-30T01:49:20.802893Z",
     "iopub.status.idle": "2023-12-30T01:49:20.824198Z",
     "shell.execute_reply": "2023-12-30T01:49:20.823140Z"
    },
    "papermill": {
     "duration": 0.030386,
     "end_time": "2023-12-30T01:49:20.826616",
     "exception": false,
     "start_time": "2023-12-30T01:49:20.796230",
     "status": "completed"
    },
    "tags": []
   },
   "outputs": [
    {
     "data": {
      "text/plain": [
       "CNN(\n",
       "  (conv1): Conv2d(3, 6, kernel_size=(5, 5), stride=(1, 1))\n",
       "  (pool): MaxPool2d(kernel_size=2, stride=2, padding=0, dilation=1, ceil_mode=False)\n",
       "  (conv2): Conv2d(6, 12, kernel_size=(5, 5), stride=(1, 1))\n",
       "  (fc1): Linear(in_features=44652, out_features=120, bias=True)\n",
       "  (fc2): Linear(in_features=120, out_features=10, bias=True)\n",
       ")"
      ]
     },
     "execution_count": 10,
     "metadata": {},
     "output_type": "execute_result"
    }
   ],
   "source": [
    "model.load_state_dict(torch.load('model.pth.tar'))\n",
    "model.eval()"
   ]
  },
  {
   "cell_type": "markdown",
   "id": "7bc61233",
   "metadata": {
    "papermill": {
     "duration": 0.0059,
     "end_time": "2023-12-30T01:49:20.838415",
     "exception": false,
     "start_time": "2023-12-30T01:49:20.832515",
     "status": "completed"
    },
    "tags": []
   },
   "source": [
    "# Saving and Loading a General checkpoint for inference and/or Resuming Training"
   ]
  },
  {
   "cell_type": "code",
   "execution_count": 11,
   "id": "1679a022",
   "metadata": {
    "execution": {
     "iopub.execute_input": "2023-12-30T01:49:20.851371Z",
     "iopub.status.busy": "2023-12-30T01:49:20.851011Z",
     "iopub.status.idle": "2023-12-30T01:49:20.902363Z",
     "shell.execute_reply": "2023-12-30T01:49:20.901348Z"
    },
    "papermill": {
     "duration": 0.060248,
     "end_time": "2023-12-30T01:49:20.904487",
     "exception": false,
     "start_time": "2023-12-30T01:49:20.844239",
     "status": "completed"
    },
    "tags": []
   },
   "outputs": [],
   "source": [
    "checkpoint = {'epoch': 1,\n",
    "             'model_state_dict': model.state_dict(),\n",
    "             'optimizer_state_dict': optimizer.state_dict(),\n",
    "             'loss': 0.2}\n",
    "torch.save(checkpoint, \"model.pth.tar\")"
   ]
  },
  {
   "cell_type": "code",
   "execution_count": 12,
   "id": "79563429",
   "metadata": {
    "execution": {
     "iopub.execute_input": "2023-12-30T01:49:20.916377Z",
     "iopub.status.busy": "2023-12-30T01:49:20.916037Z",
     "iopub.status.idle": "2023-12-30T01:49:20.931761Z",
     "shell.execute_reply": "2023-12-30T01:49:20.930717Z"
    },
    "papermill": {
     "duration": 0.023822,
     "end_time": "2023-12-30T01:49:20.933805",
     "exception": false,
     "start_time": "2023-12-30T01:49:20.909983",
     "status": "completed"
    },
    "tags": []
   },
   "outputs": [],
   "source": [
    "checkpoint = torch.load(\"model.pth.tar\")"
   ]
  },
  {
   "cell_type": "code",
   "execution_count": 13,
   "id": "2c5c8d05",
   "metadata": {
    "execution": {
     "iopub.execute_input": "2023-12-30T01:49:20.945996Z",
     "iopub.status.busy": "2023-12-30T01:49:20.945548Z",
     "iopub.status.idle": "2023-12-30T01:49:20.951626Z",
     "shell.execute_reply": "2023-12-30T01:49:20.950737Z"
    },
    "papermill": {
     "duration": 0.014345,
     "end_time": "2023-12-30T01:49:20.953719",
     "exception": false,
     "start_time": "2023-12-30T01:49:20.939374",
     "status": "completed"
    },
    "tags": []
   },
   "outputs": [
    {
     "data": {
      "text/plain": [
       "0.2"
      ]
     },
     "execution_count": 13,
     "metadata": {},
     "output_type": "execute_result"
    }
   ],
   "source": [
    "checkpoint[\"loss\"]"
   ]
  },
  {
   "cell_type": "code",
   "execution_count": 14,
   "id": "1be8f4d8",
   "metadata": {
    "execution": {
     "iopub.execute_input": "2023-12-30T01:49:20.966201Z",
     "iopub.status.busy": "2023-12-30T01:49:20.965916Z",
     "iopub.status.idle": "2023-12-30T01:49:20.971313Z",
     "shell.execute_reply": "2023-12-30T01:49:20.970549Z"
    },
    "papermill": {
     "duration": 0.014288,
     "end_time": "2023-12-30T01:49:20.973402",
     "exception": false,
     "start_time": "2023-12-30T01:49:20.959114",
     "status": "completed"
    },
    "tags": []
   },
   "outputs": [],
   "source": [
    "model.load_state_dict(checkpoint['model_state_dict'])\n",
    "optimizer.load_state_dict(checkpoint[\"optimizer_state_dict\"])\n",
    "epoch = checkpoint['epoch']\n",
    "loss = checkpoint['loss']"
   ]
  },
  {
   "cell_type": "code",
   "execution_count": null,
   "id": "1d4acefc",
   "metadata": {
    "papermill": {
     "duration": 0.005154,
     "end_time": "2023-12-30T01:49:20.984126",
     "exception": false,
     "start_time": "2023-12-30T01:49:20.978972",
     "status": "completed"
    },
    "tags": []
   },
   "outputs": [],
   "source": []
  }
 ],
 "metadata": {
  "kaggle": {
   "accelerator": "nvidiaTeslaT4",
   "dataSources": [
    {
     "datasetId": 4238871,
     "sourceId": 7305798,
     "sourceType": "datasetVersion"
    }
   ],
   "dockerImageVersionId": 30627,
   "isGpuEnabled": true,
   "isInternetEnabled": true,
   "language": "python",
   "sourceType": "notebook"
  },
  "kernelspec": {
   "display_name": "Python 3",
   "language": "python",
   "name": "python3"
  },
  "language_info": {
   "codemirror_mode": {
    "name": "ipython",
    "version": 3
   },
   "file_extension": ".py",
   "mimetype": "text/x-python",
   "name": "python",
   "nbconvert_exporter": "python",
   "pygments_lexer": "ipython3",
   "version": "3.10.12"
  },
  "papermill": {
   "default_parameters": {},
   "duration": 21.462138,
   "end_time": "2023-12-30T01:49:22.712403",
   "environment_variables": {},
   "exception": null,
   "input_path": "__notebook__.ipynb",
   "output_path": "__notebook__.ipynb",
   "parameters": {},
   "start_time": "2023-12-30T01:49:01.250265",
   "version": "2.4.0"
  }
 },
 "nbformat": 4,
 "nbformat_minor": 5
}
